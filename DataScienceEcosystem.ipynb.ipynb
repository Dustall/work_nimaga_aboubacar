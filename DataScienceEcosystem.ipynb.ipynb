{
 "cells": [
  {
   "cell_type": "markdown",
   "id": "0ee525ff-2be9-4e56-bbfd-9d00b3f02c45",
   "metadata": {},
   "source": [
    "# Data Science Tools and Ecosystem\n",
    "Available at [My work git link](https://github.com/Dustall/work_nimaga_aboubacar.git) "
   ]
  },
  {
   "cell_type": "markdown",
   "id": "2494458f-e54f-4344-a62e-fb9ccc510fc4",
   "metadata": {},
   "source": [
    "In this notebook, Data Science Tools and Ecosystem are summarized."
   ]
  },
  {
   "cell_type": "markdown",
   "id": "40bb5211-f22b-4c56-bf50-02407ca4a4bb",
   "metadata": {},
   "source": [
    "**Objectives:**\n",
    "- List popular languages for Data Science\n",
    "- List popular libraries for Data Science\n",
    "- List popular Tools for Data Science\n",
    "- Make some codes operations\n",
    "- Use Github\n",
    "\n"
   ]
  },
  {
   "cell_type": "markdown",
   "id": "ea2c950f-431e-4c2d-9dfc-84f2eedf47a1",
   "metadata": {},
   "source": [
    "Some of the popular languages that Data Scientists use are:\n",
    "1. Python\n",
    "2. R\n",
    "3. Julia\n",
    "\n",
    "\n",
    "\n"
   ]
  },
  {
   "cell_type": "markdown",
   "id": "81ee704b-8752-4be6-8cbb-811a75e9c5e6",
   "metadata": {},
   "source": [
    "Some of the commonly used libraries used by Data Scientists include:\n",
    "1. Pandas\n",
    "2. Numpy\n",
    "3. Matplotlib"
   ]
  },
  {
   "cell_type": "markdown",
   "id": "441a2479-1fac-4e39-8e10-53e32c5b1905",
   "metadata": {},
   "source": [
    "| Data Science Tools |\n",
    "| ---------------- |\n",
    "|Jupiter|\n",
    "|R Studio|\n",
    "|Git|"
   ]
  },
  {
   "cell_type": "markdown",
   "id": "3059e47e-3684-469b-8c87-9207ccf744de",
   "metadata": {},
   "source": [
    "### Below are a few examples of evaluating arithmetic expressions in Python"
   ]
  },
  {
   "cell_type": "code",
   "execution_count": 3,
   "id": "39de28b1-d3d5-4282-9e59-96e47625709f",
   "metadata": {
    "tags": []
   },
   "outputs": [
    {
     "data": {
      "text/plain": [
       "17"
      ]
     },
     "execution_count": 3,
     "metadata": {},
     "output_type": "execute_result"
    }
   ],
   "source": [
    "(3*4)+5\n",
    "# This a simple arithmetic expression to mutiply then add integers"
   ]
  },
  {
   "cell_type": "code",
   "execution_count": 4,
   "id": "e0b35010-ca14-4e9e-940e-5f849966f5b5",
   "metadata": {
    "tags": []
   },
   "outputs": [
    {
     "data": {
      "text/plain": [
       "3.3333333333333335"
      ]
     },
     "execution_count": 4,
     "metadata": {},
     "output_type": "execute_result"
    }
   ],
   "source": [
    "200/60\n",
    "# This will convert 200 minutes to hours by diving by 60"
   ]
  },
  {
   "cell_type": "markdown",
   "id": "4d2266ae-abba-4839-8896-c6abf7b160e3",
   "metadata": {},
   "source": [
    "## Autor\n",
    "Nimaga Aboubacar"
   ]
  },
  {
   "cell_type": "code",
   "execution_count": null,
   "id": "54277707-4713-4bb1-9ddc-8af8c3f11165",
   "metadata": {},
   "outputs": [],
   "source": []
  }
 ],
 "metadata": {
  "kernelspec": {
   "display_name": "Python",
   "language": "python",
   "name": "conda-env-python-py"
  },
  "language_info": {
   "codemirror_mode": {
    "name": "ipython",
    "version": 3
   },
   "file_extension": ".py",
   "mimetype": "text/x-python",
   "name": "python",
   "nbconvert_exporter": "python",
   "pygments_lexer": "ipython3",
   "version": "3.7.12"
  }
 },
 "nbformat": 4,
 "nbformat_minor": 5
}
